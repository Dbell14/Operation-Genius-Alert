{
 "cells": [
  {
   "cell_type": "code",
   "execution_count": null,
   "id": "78917f53",
   "metadata": {},
   "outputs": [],
   "source": [
    "from openai import OpenAI\n",
    "from dotenv import load_dotenv\n",
    "import pymupdf4llm\n",
    " \n",
    "import faiss\n",
    " \n",
    "from sentence_transformers import SentenceTransformer\n",
    "import os\n",
    "\n",
    "\n",
    "load_dotenv(override=True)"
   ]
  },
  {
   "cell_type": "code",
   "execution_count": null,
   "metadata": {},
   "outputs": [],
   "source": [
    "!pip install dotenv"
   ]
  },
  {
   "cell_type": "code",
   "execution_count": null,
   "metadata": {},
   "outputs": [],
   "source": [
    "!pip install tf_keras\n",
    "!pip install faiss-cpu sentence-transformers transformers tensorflow \n",
    "!pip install pymupdf4llm\n",
    "\n"
   ]
  },
  {
   "cell_type": "code",
   "execution_count": null,
   "id": "dd423ae9",
   "metadata": {},
   "outputs": [],
   "source": [
    "api_key = os.getenv(\"OPENAI_API_KEY\")\n",
    "\n",
    "\n",
    "client = OpenAI(api_key=api_key)"
   ]
  },
  {
   "cell_type": "code",
   "execution_count": null,
   "metadata": {},
   "outputs": [],
   "source": [
    "def get_tasks(text: str) -> str:\n",
    "    \"\"\"\n",
    "    Finds a task for a student based on student's feedback on the help they need for specific topics\n",
    "    \"\"\"\n",
    "    \n",
    "\n",
    "    system_prompt = \"\"\"\n",
    "    You are a Data Science tutor with a Doctorate in Data Science. You analyze students' grades, students feedback, and find short tasks to improve their learning. \n",
    "    Your job is to create clear, actionable 7-day study plans for students who are struggling in a subject. \n",
    "    Each plan should include:\n",
    "    - Daily micro-tasks (small, manageable steps)\n",
    "    - Spaced review of previously covered material\n",
    "    - Clear instructions for practice problems or study activities\n",
    "    - Motivational and encouraging language to help the student stay engaged\n",
    "    Keep the plan practical, concise, and easy for a student to follow. \n",
    "    \"\"\"\n",
    "    prompt = f\"\"\"student's prompt is {text}    \n",
    "    \"\"\"\n",
    "\n",
    "    completion = client.chat.completions.create(\n",
    "        model=\"gpt-4o-mini\",\n",
    "        messages=[\n",
    "            {\"role\": \"system\", \"content\": system_prompt},\n",
    "            {\"role\": \"user\", \"content\": prompt}\n",
    "]\n",
    "    )\n",
    "\n",
    "    output = completion.choices[0].message.content.strip()\n",
    "    print(output)\n",
    "    return output"
   ]
  },
  {
   "cell_type": "code",
   "execution_count": null,
   "metadata": {},
   "outputs": [],
   "source": [
    "response = get_tasks('I need help with Bayes Theorem')\n",
    "print(response)"
   ]
  },
  {
   "cell_type": "code",
   "execution_count": null,
   "metadata": {},
   "outputs": [],
   "source": [
    "data = \".\"\n",
    "def get_tags(text: str) -> str:\n",
    "    \"\"\"\n",
    "    Finds tags for the requested topic in data science\n",
    "    \"\"\"\n",
    "\n",
    "\n",
    "    system_prompt = f\"\"\"\n",
    "    Can you come up with a list of tags to quickly search material for the 7 day study plan for software engineers. \n",
    "    These are the topics covered in the Data Science course:{data}\n",
    "    Don't use hashtag in the beginning of the words. Don't use hashtags from social media.\n",
    "    \"\"\"\n",
    "    prompt = f\"\"\"student's prompt is {text}    \n",
    "    \"\"\"\n",
    "\n",
    "    completion = client.chat.completions.create(\n",
    "        model=\"gpt-4o-mini\",\n",
    "        messages=[\n",
    "            {\"role\": \"system\", \"content\": system_prompt},\n",
    "            {\"role\": \"user\", \"content\": prompt}\n",
    "]\n",
    "    )\n",
    "\n",
    "    output = completion.choices[0].message.content.strip()\n",
    "    #print(output)\n",
    "    return output\n",
    "\n",
    "get_tags(\"AB Testing\")\n",
    "updated_tags = get_tags('AB Testing')\n",
    "print(updated_tags)"
   ]
  },
  {
   "cell_type": "code",
   "execution_count": null,
   "metadata": {},
   "outputs": [],
   "source": [
    "updated_tags = updated_tags.replace(\"\\n\",\"\")"
   ]
  },
  {
   "cell_type": "code",
   "execution_count": null,
   "metadata": {},
   "outputs": [],
   "source": [
    "!python -m pip install langchain-community"
   ]
  },
  {
   "cell_type": "code",
   "execution_count": null,
   "metadata": {},
   "outputs": [],
   "source": [
    "from pathlib import Path\n",
    "\n",
    "ROOT = Path().resolve().parent\n",
    "slides = ROOT / \"data\"\n",
    "\n",
    "\n"
   ]
  },
  {
   "cell_type": "code",
   "execution_count": null,
   "id": "0577e5ba",
   "metadata": {},
   "outputs": [],
   "source": [
    "!pip install pypdf"
   ]
  },
  {
   "cell_type": "code",
   "execution_count": null,
   "metadata": {},
   "outputs": [],
   "source": [
    "from langchain_community.document_loaders import PyPDFLoader\n",
    "\n",
    "from langchain_community.vectorstores import FAISS\n",
    "\n",
    "from langchain_huggingface import HuggingFaceEmbeddings\n",
    "\n"
   ]
  },
  {
   "cell_type": "code",
   "execution_count": null,
   "id": "4021713f",
   "metadata": {},
   "outputs": [],
   "source": [
    "\n",
    "\n",
    "documents = []\n",
    "\n",
    "for pdf in slides.glob(\"*.pdf\"):\n",
    "    pdf_pages = PyPDFLoader(pdf).load_and_split()\n",
    "    documents.extend(pdf_pages)\n",
    "\n",
    "\n",
    "documents\n",
    "\n",
    "\n"
   ]
  },
  {
   "cell_type": "code",
   "execution_count": null,
   "id": "38155628",
   "metadata": {},
   "outputs": [],
   "source": [
    "!pip install langchain-huggingface"
   ]
  },
  {
   "cell_type": "code",
   "execution_count": null,
   "id": "5eb765c3",
   "metadata": {},
   "outputs": [],
   "source": [
    "embedder = HuggingFaceEmbeddings(model_name=\"sentence-transformers/all-MiniLM-L6-v2\")\n",
    "db = FAISS.from_documents(documents, embedder)\n",
    "\n",
    "\n",
    "retriever = db.as_retriever(search_kw={\"k\":5})\n"
   ]
  },
  {
   "cell_type": "code",
   "execution_count": null,
   "id": "8ca2ddea",
   "metadata": {},
   "outputs": [],
   "source": [
    "results = retriever.invoke(\"Bayes Theorem\")"
   ]
  },
  {
   "cell_type": "code",
   "execution_count": null,
   "metadata": {},
   "outputs": [],
   "source": [
    "first_result = results[0]"
   ]
  },
  {
   "cell_type": "code",
   "execution_count": null,
   "id": "21f8f920",
   "metadata": {},
   "outputs": [],
   "source": [
    "first_result.model_dump()"
   ]
  },
  {
   "cell_type": "code",
   "execution_count": null,
   "id": "f3a639dc",
   "metadata": {},
   "outputs": [],
   "source": [
    "import csv\n",
    "import random\n",
    "# Topics to base feedback on\n",
    "topics = [\n",
    "    \"Python Basics\", \"NumPy\", \"Pandas\", \"Data Visualization\",\n",
    "    \"Statistics\", \"Machine Learning\", \"SQL\", \"AB Testing\",\n",
    "    \"Data Cleaning\", \"Regression Analysis\"\n",
    "]\n",
    "# Sample feedback messages (adjusted to include topics dynamically)\n",
    "positive_feedback = [\n",
    "    \"Great job on your assignments! You’ve shown strong progress in understanding {}.\",\n",
    "    \"Excellent effort in applying {} concepts to real problems!\",\n",
    "    \"Your coding practices in {} are clean and efficient. Keep up the great work!\",\n",
    "    \"You’ve demonstrated strong analytical thinking when working with {} datasets.\",\n",
    "    \"Fantastic progress in {}. You’re ready to tackle more advanced challenges!\"\n",
    "]\n",
    "negative_feedback = [\n",
    "    \"Your submissions on {} are missing key sections, and you need to review the basics.\",\n",
    "    \"You struggled with {} exercises. Try to work on time management and practice more.\",\n",
    "    \"Your understanding of {} concepts is weak. Please revisit the lecture notes.\",\n",
    "    \"The quality of your code in {} lacks proper structure and documentation.\",\n",
    "    \"You need to participate more actively in {} activities to strengthen your understanding.\"\n",
    "]\n",
    "neutral_feedback = [\n",
    "    \"You are doing fine in {}, but try focusing more on practicing exercises.\",\n",
    "    \"Your {} concepts are clear, but revising them regularly will help retain the knowledge.\",\n",
    "    \"You’re making steady progress in {}, but solving more real-world case studies will help.\",\n",
    "    \"Consider setting aside 30 minutes daily to review {} alongside new topics.\",\n",
    "    \"Good work so far in {}, but consistency in practicing challenges is key.\"\n",
    "]\n",
    "# Feedback types\n",
    "feedback_types = [\"Positive\", \"Negative\", \"Neutral\"]\n",
    "# Generate feedback for 15 students\n",
    "students = [f\"Student_{i}\" for i in range(1, 16)]\n",
    "feedback_data = []\n",
    "for student in students:\n",
    "    topic = random.choice(topics)\n",
    "    feedback_type = random.choice(feedback_types)\n",
    "    if feedback_type == \"Positive\":\n",
    "        feedback = random.choice(positive_feedback).format(topic)\n",
    "    elif feedback_type == \"Negative\":\n",
    "        feedback = random.choice(negative_feedback).format(topic)\n",
    "    else:\n",
    "        feedback = random.choice(neutral_feedback).format(topic)\n",
    "    feedback_data.append({\n",
    "        \"Student\": student,\n",
    "        \"Feedback_Type\": feedback_type,\n",
    "        \"Topic\": topic,\n",
    "        \"Feedback\": feedback\n",
    "    })\n",
    "# Save to CSV\n",
    "filename = \"student_feedback.csv\"\n",
    "with open(filename, mode=\"w\", newline=\"\", encoding=\"utf-8\") as file:\n",
    "    writer = csv.DictWriter(file, fieldnames=[\"Student\", \"Feedback_Type\", \"Topic\", \"Feedback\"])\n",
    "    writer.writeheader()\n",
    "    writer.writerows(feedback_data)\n",
    "print(f\"CSV file '{filename}' has been created successfully!\")"
   ]
  }
 ],
 "metadata": {
  "kernelspec": {
   "display_name": "ds",
   "language": "python",
   "name": "python3"
  },
  "language_info": {
   "codemirror_mode": {
    "name": "ipython",
    "version": 3
   },
   "file_extension": ".py",
   "mimetype": "text/x-python",
   "name": "python",
   "nbconvert_exporter": "python",
   "pygments_lexer": "ipython3",
   "version": "3.12.9"
  }
 },
 "nbformat": 4,
 "nbformat_minor": 5
}
