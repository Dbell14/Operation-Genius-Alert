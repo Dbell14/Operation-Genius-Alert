{
 "cells": [
  {
   "cell_type": "code",
   "execution_count": 20,
   "id": "24020860",
   "metadata": {},
   "outputs": [
    {
     "data": {
      "text/plain": [
       "True"
      ]
     },
     "execution_count": 20,
     "metadata": {},
     "output_type": "execute_result"
    }
   ],
   "source": [
    "from openai import OpenAI\n",
    "from dotenv import load_dotenv\n",
    "import pymupdf4llm\n",
    " \n",
    "import faiss\n",
    " \n",
    "from sentence_transformers import SentenceTransformer\n",
    "import os\n",
    "\n",
    "\n",
    "load_dotenv()"
   ]
  },
  {
   "cell_type": "code",
   "execution_count": 18,
   "id": "89a63991",
   "metadata": {},
   "outputs": [
    {
     "name": "stdout",
     "output_type": "stream",
     "text": [
      "Collecting dotenv\n",
      "  Downloading dotenv-0.9.9-py2.py3-none-any.whl.metadata (279 bytes)\n",
      "Collecting python-dotenv (from dotenv)\n",
      "  Downloading python_dotenv-1.1.1-py3-none-any.whl.metadata (24 kB)\n",
      "Downloading dotenv-0.9.9-py2.py3-none-any.whl (1.9 kB)\n",
      "Downloading python_dotenv-1.1.1-py3-none-any.whl (20 kB)\n",
      "Installing collected packages: python-dotenv, dotenv\n",
      "Successfully installed dotenv-0.9.9 python-dotenv-1.1.1\n"
     ]
    }
   ],
   "source": [
    "!pip install dotenv"
   ]
  },
  {
   "cell_type": "code",
   "execution_count": 14,
   "id": "39bb7f3b",
   "metadata": {},
   "outputs": [
    {
     "name": "stdout",
     "output_type": "stream",
     "text": [
      "Requirement already satisfied: tf_keras in c:\\users\\casham2045\\miniconda3\\envs\\ds\\lib\\site-packages (2.19.0)\n",
      "Requirement already satisfied: tensorflow<2.20,>=2.19 in c:\\users\\casham2045\\miniconda3\\envs\\ds\\lib\\site-packages (from tf_keras) (2.19.0)\n",
      "Requirement already satisfied: absl-py>=1.0.0 in c:\\users\\casham2045\\miniconda3\\envs\\ds\\lib\\site-packages (from tensorflow<2.20,>=2.19->tf_keras) (2.3.1)\n",
      "Requirement already satisfied: astunparse>=1.6.0 in c:\\users\\casham2045\\miniconda3\\envs\\ds\\lib\\site-packages (from tensorflow<2.20,>=2.19->tf_keras) (1.6.3)\n",
      "Requirement already satisfied: flatbuffers>=24.3.25 in c:\\users\\casham2045\\miniconda3\\envs\\ds\\lib\\site-packages (from tensorflow<2.20,>=2.19->tf_keras) (25.2.10)\n",
      "Requirement already satisfied: gast!=0.5.0,!=0.5.1,!=0.5.2,>=0.2.1 in c:\\users\\casham2045\\miniconda3\\envs\\ds\\lib\\site-packages (from tensorflow<2.20,>=2.19->tf_keras) (0.6.0)\n",
      "Requirement already satisfied: google-pasta>=0.1.1 in c:\\users\\casham2045\\miniconda3\\envs\\ds\\lib\\site-packages (from tensorflow<2.20,>=2.19->tf_keras) (0.2.0)\n",
      "Requirement already satisfied: libclang>=13.0.0 in c:\\users\\casham2045\\miniconda3\\envs\\ds\\lib\\site-packages (from tensorflow<2.20,>=2.19->tf_keras) (18.1.1)\n",
      "Requirement already satisfied: opt-einsum>=2.3.2 in c:\\users\\casham2045\\miniconda3\\envs\\ds\\lib\\site-packages (from tensorflow<2.20,>=2.19->tf_keras) (3.4.0)\n",
      "Requirement already satisfied: packaging in c:\\users\\casham2045\\miniconda3\\envs\\ds\\lib\\site-packages (from tensorflow<2.20,>=2.19->tf_keras) (24.2)\n",
      "Requirement already satisfied: protobuf!=4.21.0,!=4.21.1,!=4.21.2,!=4.21.3,!=4.21.4,!=4.21.5,<6.0.0dev,>=3.20.3 in c:\\users\\casham2045\\miniconda3\\envs\\ds\\lib\\site-packages (from tensorflow<2.20,>=2.19->tf_keras) (5.29.5)\n",
      "Requirement already satisfied: requests<3,>=2.21.0 in c:\\users\\casham2045\\miniconda3\\envs\\ds\\lib\\site-packages (from tensorflow<2.20,>=2.19->tf_keras) (2.32.3)\n",
      "Requirement already satisfied: setuptools in c:\\users\\casham2045\\miniconda3\\envs\\ds\\lib\\site-packages (from tensorflow<2.20,>=2.19->tf_keras) (72.1.0)\n",
      "Requirement already satisfied: six>=1.12.0 in c:\\users\\casham2045\\miniconda3\\envs\\ds\\lib\\site-packages (from tensorflow<2.20,>=2.19->tf_keras) (1.16.0)\n",
      "Requirement already satisfied: termcolor>=1.1.0 in c:\\users\\casham2045\\miniconda3\\envs\\ds\\lib\\site-packages (from tensorflow<2.20,>=2.19->tf_keras) (3.1.0)\n",
      "Requirement already satisfied: typing-extensions>=3.6.6 in c:\\users\\casham2045\\miniconda3\\envs\\ds\\lib\\site-packages (from tensorflow<2.20,>=2.19->tf_keras) (4.12.2)\n",
      "Requirement already satisfied: wrapt>=1.11.0 in c:\\users\\casham2045\\miniconda3\\envs\\ds\\lib\\site-packages (from tensorflow<2.20,>=2.19->tf_keras) (1.17.2)\n",
      "Requirement already satisfied: grpcio<2.0,>=1.24.3 in c:\\users\\casham2045\\miniconda3\\envs\\ds\\lib\\site-packages (from tensorflow<2.20,>=2.19->tf_keras) (1.74.0)\n",
      "Requirement already satisfied: tensorboard~=2.19.0 in c:\\users\\casham2045\\miniconda3\\envs\\ds\\lib\\site-packages (from tensorflow<2.20,>=2.19->tf_keras) (2.19.0)\n",
      "Requirement already satisfied: keras>=3.5.0 in c:\\users\\casham2045\\miniconda3\\envs\\ds\\lib\\site-packages (from tensorflow<2.20,>=2.19->tf_keras) (3.11.0)\n",
      "Requirement already satisfied: numpy<2.2.0,>=1.26.0 in c:\\users\\casham2045\\miniconda3\\envs\\ds\\lib\\site-packages (from tensorflow<2.20,>=2.19->tf_keras) (1.26.4)\n",
      "Requirement already satisfied: h5py>=3.11.0 in c:\\users\\casham2045\\miniconda3\\envs\\ds\\lib\\site-packages (from tensorflow<2.20,>=2.19->tf_keras) (3.14.0)\n",
      "Requirement already satisfied: ml-dtypes<1.0.0,>=0.5.1 in c:\\users\\casham2045\\miniconda3\\envs\\ds\\lib\\site-packages (from tensorflow<2.20,>=2.19->tf_keras) (0.5.3)\n",
      "Requirement already satisfied: wheel<1.0,>=0.23.0 in c:\\users\\casham2045\\miniconda3\\envs\\ds\\lib\\site-packages (from astunparse>=1.6.0->tensorflow<2.20,>=2.19->tf_keras) (0.45.1)\n",
      "Requirement already satisfied: rich in c:\\users\\casham2045\\miniconda3\\envs\\ds\\lib\\site-packages (from keras>=3.5.0->tensorflow<2.20,>=2.19->tf_keras) (14.1.0)\n",
      "Requirement already satisfied: namex in c:\\users\\casham2045\\miniconda3\\envs\\ds\\lib\\site-packages (from keras>=3.5.0->tensorflow<2.20,>=2.19->tf_keras) (0.1.0)\n",
      "Requirement already satisfied: optree in c:\\users\\casham2045\\miniconda3\\envs\\ds\\lib\\site-packages (from keras>=3.5.0->tensorflow<2.20,>=2.19->tf_keras) (0.17.0)\n",
      "Requirement already satisfied: charset-normalizer<4,>=2 in c:\\users\\casham2045\\miniconda3\\envs\\ds\\lib\\site-packages (from requests<3,>=2.21.0->tensorflow<2.20,>=2.19->tf_keras) (3.3.2)\n",
      "Requirement already satisfied: idna<4,>=2.5 in c:\\users\\casham2045\\miniconda3\\envs\\ds\\lib\\site-packages (from requests<3,>=2.21.0->tensorflow<2.20,>=2.19->tf_keras) (3.7)\n",
      "Requirement already satisfied: urllib3<3,>=1.21.1 in c:\\users\\casham2045\\miniconda3\\envs\\ds\\lib\\site-packages (from requests<3,>=2.21.0->tensorflow<2.20,>=2.19->tf_keras) (2.3.0)\n",
      "Requirement already satisfied: certifi>=2017.4.17 in c:\\users\\casham2045\\miniconda3\\envs\\ds\\lib\\site-packages (from requests<3,>=2.21.0->tensorflow<2.20,>=2.19->tf_keras) (2025.1.31)\n",
      "Requirement already satisfied: markdown>=2.6.8 in c:\\users\\casham2045\\miniconda3\\envs\\ds\\lib\\site-packages (from tensorboard~=2.19.0->tensorflow<2.20,>=2.19->tf_keras) (3.8.2)\n",
      "Requirement already satisfied: tensorboard-data-server<0.8.0,>=0.7.0 in c:\\users\\casham2045\\miniconda3\\envs\\ds\\lib\\site-packages (from tensorboard~=2.19.0->tensorflow<2.20,>=2.19->tf_keras) (0.7.2)\n",
      "Requirement already satisfied: werkzeug>=1.0.1 in c:\\users\\casham2045\\miniconda3\\envs\\ds\\lib\\site-packages (from tensorboard~=2.19.0->tensorflow<2.20,>=2.19->tf_keras) (3.1.3)\n",
      "Requirement already satisfied: MarkupSafe>=2.1.1 in c:\\users\\casham2045\\miniconda3\\envs\\ds\\lib\\site-packages (from werkzeug>=1.0.1->tensorboard~=2.19.0->tensorflow<2.20,>=2.19->tf_keras) (3.0.2)\n",
      "Requirement already satisfied: markdown-it-py>=2.2.0 in c:\\users\\casham2045\\miniconda3\\envs\\ds\\lib\\site-packages (from rich->keras>=3.5.0->tensorflow<2.20,>=2.19->tf_keras) (3.0.0)\n",
      "Requirement already satisfied: pygments<3.0.0,>=2.13.0 in c:\\users\\casham2045\\miniconda3\\envs\\ds\\lib\\site-packages (from rich->keras>=3.5.0->tensorflow<2.20,>=2.19->tf_keras) (2.15.1)\n",
      "Requirement already satisfied: mdurl~=0.1 in c:\\users\\casham2045\\miniconda3\\envs\\ds\\lib\\site-packages (from markdown-it-py>=2.2.0->rich->keras>=3.5.0->tensorflow<2.20,>=2.19->tf_keras) (0.1.2)\n",
      "Requirement already satisfied: faiss-cpu in c:\\users\\casham2045\\miniconda3\\envs\\ds\\lib\\site-packages (1.11.0.post1)\n",
      "Requirement already satisfied: sentence-transformers in c:\\users\\casham2045\\miniconda3\\envs\\ds\\lib\\site-packages (5.1.0)\n",
      "Requirement already satisfied: transformers in c:\\users\\casham2045\\miniconda3\\envs\\ds\\lib\\site-packages (4.55.0)\n",
      "Requirement already satisfied: tensorflow in c:\\users\\casham2045\\miniconda3\\envs\\ds\\lib\\site-packages (2.19.0)\n",
      "Requirement already satisfied: numpy<3.0,>=1.25.0 in c:\\users\\casham2045\\miniconda3\\envs\\ds\\lib\\site-packages (from faiss-cpu) (1.26.4)\n",
      "Requirement already satisfied: packaging in c:\\users\\casham2045\\miniconda3\\envs\\ds\\lib\\site-packages (from faiss-cpu) (24.2)\n",
      "Requirement already satisfied: tqdm in c:\\users\\casham2045\\miniconda3\\envs\\ds\\lib\\site-packages (from sentence-transformers) (4.67.1)\n",
      "Requirement already satisfied: torch>=1.11.0 in c:\\users\\casham2045\\miniconda3\\envs\\ds\\lib\\site-packages (from sentence-transformers) (2.8.0)\n",
      "Requirement already satisfied: scikit-learn in c:\\users\\casham2045\\miniconda3\\envs\\ds\\lib\\site-packages (from sentence-transformers) (1.6.1)\n",
      "Requirement already satisfied: scipy in c:\\users\\casham2045\\miniconda3\\envs\\ds\\lib\\site-packages (from sentence-transformers) (1.13.1)\n",
      "Requirement already satisfied: huggingface-hub>=0.20.0 in c:\\users\\casham2045\\miniconda3\\envs\\ds\\lib\\site-packages (from sentence-transformers) (0.34.3)\n",
      "Requirement already satisfied: Pillow in c:\\users\\casham2045\\miniconda3\\envs\\ds\\lib\\site-packages (from sentence-transformers) (11.1.0)\n",
      "Requirement already satisfied: typing_extensions>=4.5.0 in c:\\users\\casham2045\\miniconda3\\envs\\ds\\lib\\site-packages (from sentence-transformers) (4.12.2)\n",
      "Requirement already satisfied: filelock in c:\\users\\casham2045\\miniconda3\\envs\\ds\\lib\\site-packages (from transformers) (3.18.0)\n",
      "Requirement already satisfied: pyyaml>=5.1 in c:\\users\\casham2045\\miniconda3\\envs\\ds\\lib\\site-packages (from transformers) (6.0.2)\n",
      "Requirement already satisfied: regex!=2019.12.17 in c:\\users\\casham2045\\miniconda3\\envs\\ds\\lib\\site-packages (from transformers) (2025.7.34)\n",
      "Requirement already satisfied: requests in c:\\users\\casham2045\\miniconda3\\envs\\ds\\lib\\site-packages (from transformers) (2.32.3)\n",
      "Requirement already satisfied: tokenizers<0.22,>=0.21 in c:\\users\\casham2045\\miniconda3\\envs\\ds\\lib\\site-packages (from transformers) (0.21.4)\n",
      "Requirement already satisfied: safetensors>=0.4.3 in c:\\users\\casham2045\\miniconda3\\envs\\ds\\lib\\site-packages (from transformers) (0.6.1)\n",
      "Requirement already satisfied: absl-py>=1.0.0 in c:\\users\\casham2045\\miniconda3\\envs\\ds\\lib\\site-packages (from tensorflow) (2.3.1)\n",
      "Requirement already satisfied: astunparse>=1.6.0 in c:\\users\\casham2045\\miniconda3\\envs\\ds\\lib\\site-packages (from tensorflow) (1.6.3)\n",
      "Requirement already satisfied: flatbuffers>=24.3.25 in c:\\users\\casham2045\\miniconda3\\envs\\ds\\lib\\site-packages (from tensorflow) (25.2.10)\n",
      "Requirement already satisfied: gast!=0.5.0,!=0.5.1,!=0.5.2,>=0.2.1 in c:\\users\\casham2045\\miniconda3\\envs\\ds\\lib\\site-packages (from tensorflow) (0.6.0)\n",
      "Requirement already satisfied: google-pasta>=0.1.1 in c:\\users\\casham2045\\miniconda3\\envs\\ds\\lib\\site-packages (from tensorflow) (0.2.0)\n",
      "Requirement already satisfied: libclang>=13.0.0 in c:\\users\\casham2045\\miniconda3\\envs\\ds\\lib\\site-packages (from tensorflow) (18.1.1)\n",
      "Requirement already satisfied: opt-einsum>=2.3.2 in c:\\users\\casham2045\\miniconda3\\envs\\ds\\lib\\site-packages (from tensorflow) (3.4.0)\n",
      "Requirement already satisfied: protobuf!=4.21.0,!=4.21.1,!=4.21.2,!=4.21.3,!=4.21.4,!=4.21.5,<6.0.0dev,>=3.20.3 in c:\\users\\casham2045\\miniconda3\\envs\\ds\\lib\\site-packages (from tensorflow) (5.29.5)\n",
      "Requirement already satisfied: setuptools in c:\\users\\casham2045\\miniconda3\\envs\\ds\\lib\\site-packages (from tensorflow) (72.1.0)\n",
      "Requirement already satisfied: six>=1.12.0 in c:\\users\\casham2045\\miniconda3\\envs\\ds\\lib\\site-packages (from tensorflow) (1.16.0)\n",
      "Requirement already satisfied: termcolor>=1.1.0 in c:\\users\\casham2045\\miniconda3\\envs\\ds\\lib\\site-packages (from tensorflow) (3.1.0)\n",
      "Requirement already satisfied: wrapt>=1.11.0 in c:\\users\\casham2045\\miniconda3\\envs\\ds\\lib\\site-packages (from tensorflow) (1.17.2)\n",
      "Requirement already satisfied: grpcio<2.0,>=1.24.3 in c:\\users\\casham2045\\miniconda3\\envs\\ds\\lib\\site-packages (from tensorflow) (1.74.0)\n",
      "Requirement already satisfied: tensorboard~=2.19.0 in c:\\users\\casham2045\\miniconda3\\envs\\ds\\lib\\site-packages (from tensorflow) (2.19.0)\n",
      "Requirement already satisfied: keras>=3.5.0 in c:\\users\\casham2045\\miniconda3\\envs\\ds\\lib\\site-packages (from tensorflow) (3.11.0)\n",
      "Requirement already satisfied: h5py>=3.11.0 in c:\\users\\casham2045\\miniconda3\\envs\\ds\\lib\\site-packages (from tensorflow) (3.14.0)\n",
      "Requirement already satisfied: ml-dtypes<1.0.0,>=0.5.1 in c:\\users\\casham2045\\miniconda3\\envs\\ds\\lib\\site-packages (from tensorflow) (0.5.3)\n",
      "Requirement already satisfied: wheel<1.0,>=0.23.0 in c:\\users\\casham2045\\miniconda3\\envs\\ds\\lib\\site-packages (from astunparse>=1.6.0->tensorflow) (0.45.1)\n",
      "Requirement already satisfied: fsspec>=2023.5.0 in c:\\users\\casham2045\\miniconda3\\envs\\ds\\lib\\site-packages (from huggingface-hub>=0.20.0->sentence-transformers) (2025.3.0)\n",
      "Requirement already satisfied: rich in c:\\users\\casham2045\\miniconda3\\envs\\ds\\lib\\site-packages (from keras>=3.5.0->tensorflow) (14.1.0)\n",
      "Requirement already satisfied: namex in c:\\users\\casham2045\\miniconda3\\envs\\ds\\lib\\site-packages (from keras>=3.5.0->tensorflow) (0.1.0)\n",
      "Requirement already satisfied: optree in c:\\users\\casham2045\\miniconda3\\envs\\ds\\lib\\site-packages (from keras>=3.5.0->tensorflow) (0.17.0)\n",
      "Requirement already satisfied: charset-normalizer<4,>=2 in c:\\users\\casham2045\\miniconda3\\envs\\ds\\lib\\site-packages (from requests->transformers) (3.3.2)\n",
      "Requirement already satisfied: idna<4,>=2.5 in c:\\users\\casham2045\\miniconda3\\envs\\ds\\lib\\site-packages (from requests->transformers) (3.7)\n",
      "Requirement already satisfied: urllib3<3,>=1.21.1 in c:\\users\\casham2045\\miniconda3\\envs\\ds\\lib\\site-packages (from requests->transformers) (2.3.0)\n",
      "Requirement already satisfied: certifi>=2017.4.17 in c:\\users\\casham2045\\miniconda3\\envs\\ds\\lib\\site-packages (from requests->transformers) (2025.1.31)\n",
      "Requirement already satisfied: markdown>=2.6.8 in c:\\users\\casham2045\\miniconda3\\envs\\ds\\lib\\site-packages (from tensorboard~=2.19.0->tensorflow) (3.8.2)\n",
      "Requirement already satisfied: tensorboard-data-server<0.8.0,>=0.7.0 in c:\\users\\casham2045\\miniconda3\\envs\\ds\\lib\\site-packages (from tensorboard~=2.19.0->tensorflow) (0.7.2)\n",
      "Requirement already satisfied: werkzeug>=1.0.1 in c:\\users\\casham2045\\miniconda3\\envs\\ds\\lib\\site-packages (from tensorboard~=2.19.0->tensorflow) (3.1.3)\n",
      "Requirement already satisfied: sympy>=1.13.3 in c:\\users\\casham2045\\miniconda3\\envs\\ds\\lib\\site-packages (from torch>=1.11.0->sentence-transformers) (1.14.0)\n",
      "Requirement already satisfied: networkx in c:\\users\\casham2045\\miniconda3\\envs\\ds\\lib\\site-packages (from torch>=1.11.0->sentence-transformers) (3.5)\n",
      "Requirement already satisfied: jinja2 in c:\\users\\casham2045\\miniconda3\\envs\\ds\\lib\\site-packages (from torch>=1.11.0->sentence-transformers) (3.1.6)\n",
      "Requirement already satisfied: colorama in c:\\users\\casham2045\\miniconda3\\envs\\ds\\lib\\site-packages (from tqdm->sentence-transformers) (0.4.6)\n",
      "Requirement already satisfied: joblib>=1.2.0 in c:\\users\\casham2045\\miniconda3\\envs\\ds\\lib\\site-packages (from scikit-learn->sentence-transformers) (1.4.2)\n",
      "Requirement already satisfied: threadpoolctl>=3.1.0 in c:\\users\\casham2045\\miniconda3\\envs\\ds\\lib\\site-packages (from scikit-learn->sentence-transformers) (3.5.0)\n",
      "Requirement already satisfied: mpmath<1.4,>=1.1.0 in c:\\users\\casham2045\\miniconda3\\envs\\ds\\lib\\site-packages (from sympy>=1.13.3->torch>=1.11.0->sentence-transformers) (1.3.0)\n",
      "Requirement already satisfied: MarkupSafe>=2.1.1 in c:\\users\\casham2045\\miniconda3\\envs\\ds\\lib\\site-packages (from werkzeug>=1.0.1->tensorboard~=2.19.0->tensorflow) (3.0.2)\n",
      "Requirement already satisfied: markdown-it-py>=2.2.0 in c:\\users\\casham2045\\miniconda3\\envs\\ds\\lib\\site-packages (from rich->keras>=3.5.0->tensorflow) (3.0.0)\n",
      "Requirement already satisfied: pygments<3.0.0,>=2.13.0 in c:\\users\\casham2045\\miniconda3\\envs\\ds\\lib\\site-packages (from rich->keras>=3.5.0->tensorflow) (2.15.1)\n",
      "Requirement already satisfied: mdurl~=0.1 in c:\\users\\casham2045\\miniconda3\\envs\\ds\\lib\\site-packages (from markdown-it-py>=2.2.0->rich->keras>=3.5.0->tensorflow) (0.1.2)\n",
      "Requirement already satisfied: pymupdf4llm in c:\\users\\casham2045\\miniconda3\\envs\\ds\\lib\\site-packages (0.0.27)\n",
      "Requirement already satisfied: pymupdf>=1.26.3 in c:\\users\\casham2045\\miniconda3\\envs\\ds\\lib\\site-packages (from pymupdf4llm) (1.26.4)\n"
     ]
    }
   ],
   "source": [
    "!pip install tf_keras\n",
    "!pip install faiss-cpu sentence-transformers transformers tensorflow \n",
    "!pip install pymupdf4llm\n",
    "\n"
   ]
  },
  {
   "cell_type": "code",
   "execution_count": null,
   "id": "60b64348",
   "metadata": {},
   "outputs": [],
   "source": [
    "def get_tasks(text: str) -> str:\n",
    "    \"\"\"\n",
    "    Finds a task for a student based on student's grade\n",
    "    \"\"\"\n",
    "  api_key = os.getenv(\"OPENAI_API_KEY\")\n",
    "\n",
    "\n",
    "  client = OpenAI(api_key=api_key)\n",
    "\n",
    "    system_prompt = \"\"\"\n",
    "    You are a Software Engineering tutor. You analyze students' grades and find short tasks to improve their learning. \n",
    "    Your job is to create clear, actionable 7-day study plans for students who are struggling in a subject. \n",
    "    Each plan should include:\n",
    "    - Daily micro-tasks (small, manageable steps)\n",
    "    - Spaced review of previously covered material\n",
    "    - Clear instructions for practice problems or study activities\n",
    "    - Motivational and encouraging language to help the student stay engaged\n",
    "    Keep the plan practical, concise, and easy for a student to follow. \n",
    "    \"\"\"\n",
    "    prompt = f\"\"\"student's prompt is {text}    \n",
    "    \"\"\"\n",
    "\n",
    "    completion = client.chat.completions.create(\n",
    "        model=\"gpt-4o-mini\",\n",
    "        messages=[\n",
    "            {\"role\": \"system\", \"content\": system_prompt},\n",
    "            {\"role\": \"user\", \"content\": prompt}\n",
    "]\n",
    "    )\n",
    "\n",
    "    output = completion.choices[0].message.content.strip()\n",
    "    print(output)\n",
    "    return output"
   ]
  },
  {
   "cell_type": "code",
   "execution_count": 16,
   "id": "3f516e78",
   "metadata": {},
   "outputs": [
    {
     "ename": "AttributeError",
     "evalue": "'str' object has no attribute 'chat'",
     "output_type": "error",
     "traceback": [
      "\u001b[1;31m---------------------------------------------------------------------------\u001b[0m",
      "\u001b[1;31mAttributeError\u001b[0m                            Traceback (most recent call last)",
      "Cell \u001b[1;32mIn[16], line 1\u001b[0m\n\u001b[1;32m----> 1\u001b[0m response \u001b[38;5;241m=\u001b[39m get_tasks(\u001b[38;5;124m'\u001b[39m\u001b[38;5;124mI got a low grade in for loops\u001b[39m\u001b[38;5;124m'\u001b[39m)\n\u001b[0;32m      2\u001b[0m \u001b[38;5;28mprint\u001b[39m(response)\n",
      "Cell \u001b[1;32mIn[15], line 20\u001b[0m, in \u001b[0;36mget_tasks\u001b[1;34m(text)\u001b[0m\n\u001b[0;32m      7\u001b[0m     system_prompt \u001b[38;5;241m=\u001b[39m \u001b[38;5;124m\"\"\"\u001b[39m\n\u001b[0;32m      8\u001b[0m \u001b[38;5;124m    You are a Software Engineering tutor. You analyze students\u001b[39m\u001b[38;5;124m'\u001b[39m\u001b[38;5;124m grades and find short tasks to improve their learning. \u001b[39m\n\u001b[0;32m      9\u001b[0m \u001b[38;5;124m    Your job is to create clear, actionable 7-day study plans for students who are struggling in a subject. \u001b[39m\n\u001b[1;32m   (...)\u001b[0m\n\u001b[0;32m     15\u001b[0m \u001b[38;5;124m    Keep the plan practical, concise, and easy for a student to follow. \u001b[39m\n\u001b[0;32m     16\u001b[0m \u001b[38;5;124m    \u001b[39m\u001b[38;5;124m\"\"\"\u001b[39m\n\u001b[0;32m     17\u001b[0m     prompt \u001b[38;5;241m=\u001b[39m \u001b[38;5;124mf\u001b[39m\u001b[38;5;124m\"\"\"\u001b[39m\u001b[38;5;124mstudent\u001b[39m\u001b[38;5;124m'\u001b[39m\u001b[38;5;124ms prompt is \u001b[39m\u001b[38;5;132;01m{\u001b[39;00mtext\u001b[38;5;132;01m}\u001b[39;00m\u001b[38;5;124m    \u001b[39m\n\u001b[0;32m     18\u001b[0m \u001b[38;5;124m    \u001b[39m\u001b[38;5;124m\"\"\"\u001b[39m\n\u001b[1;32m---> 20\u001b[0m     completion \u001b[38;5;241m=\u001b[39m client\u001b[38;5;241m.\u001b[39mchat\u001b[38;5;241m.\u001b[39mcompletions\u001b[38;5;241m.\u001b[39mcreate(\n\u001b[0;32m     21\u001b[0m         model\u001b[38;5;241m=\u001b[39m\u001b[38;5;124m\"\u001b[39m\u001b[38;5;124mgpt-4o-mini\u001b[39m\u001b[38;5;124m\"\u001b[39m,\n\u001b[0;32m     22\u001b[0m         messages\u001b[38;5;241m=\u001b[39m[\n\u001b[0;32m     23\u001b[0m             {\u001b[38;5;124m\"\u001b[39m\u001b[38;5;124mrole\u001b[39m\u001b[38;5;124m\"\u001b[39m: \u001b[38;5;124m\"\u001b[39m\u001b[38;5;124msystem\u001b[39m\u001b[38;5;124m\"\u001b[39m, \u001b[38;5;124m\"\u001b[39m\u001b[38;5;124mcontent\u001b[39m\u001b[38;5;124m\"\u001b[39m: system_prompt},\n\u001b[0;32m     24\u001b[0m             {\u001b[38;5;124m\"\u001b[39m\u001b[38;5;124mrole\u001b[39m\u001b[38;5;124m\"\u001b[39m: \u001b[38;5;124m\"\u001b[39m\u001b[38;5;124muser\u001b[39m\u001b[38;5;124m\"\u001b[39m, \u001b[38;5;124m\"\u001b[39m\u001b[38;5;124mcontent\u001b[39m\u001b[38;5;124m\"\u001b[39m: prompt}\n\u001b[0;32m     25\u001b[0m ]\n\u001b[0;32m     26\u001b[0m     )\n\u001b[0;32m     28\u001b[0m     output \u001b[38;5;241m=\u001b[39m completion\u001b[38;5;241m.\u001b[39mchoices[\u001b[38;5;241m0\u001b[39m]\u001b[38;5;241m.\u001b[39mmessage\u001b[38;5;241m.\u001b[39mcontent\u001b[38;5;241m.\u001b[39mstrip()\n\u001b[0;32m     29\u001b[0m     \u001b[38;5;28mprint\u001b[39m(output)\n",
      "\u001b[1;31mAttributeError\u001b[0m: 'str' object has no attribute 'chat'"
     ]
    }
   ],
   "source": [
    "response = get_tasks('I got a low grade in for loops')\n",
    "print(response)"
   ]
  },
  {
   "cell_type": "code",
   "execution_count": null,
   "id": "2d75c066",
   "metadata": {},
   "outputs": [],
   "source": [
    "data = \".\"\n",
    "def get_tags(text: str) -> str:\n",
    "    \"\"\"\n",
    "    Finds tags for the requested topic in software engineering\n",
    "    \"\"\"\n",
    "    client = (\"...\")\n",
    "\n",
    "    system_prompt = f\"\"\"\n",
    "    Can you come up with a list of tags to quickly search material for the 7 day study plan for software engineers. \n",
    "    These are the topics covered in the Data Science course:{data}\n",
    "    Don't use hashtag in the beginning of the words. Don't use hashtags from social media.\n",
    "    \"\"\"\n",
    "    prompt = f\"\"\"student's prompt is {text}    \n",
    "    \"\"\"\n",
    "\n",
    "    completion = client.chat.completions.create(\n",
    "        model=\"gpt-4o-mini\",\n",
    "        messages=[\n",
    "            {\"role\": \"system\", \"content\": system_prompt},\n",
    "            {\"role\": \"user\", \"content\": prompt}\n",
    "]\n",
    "    )\n",
    "\n",
    "    output = completion.choices[0].message.content.strip()\n",
    "    #print(output)\n",
    "    return output\n",
    "\n",
    "get_tags(\"AB Testing\")\n",
    "updated_tags = get_tags('AB Testing')\n",
    "print(type(updated_tags))"
   ]
  },
  {
   "cell_type": "code",
   "execution_count": null,
   "id": "5b20ae0d",
   "metadata": {},
   "outputs": [],
   "source": [
    "updated_tags = updated_tags.replace(\"\\n\",\"\")"
   ]
  },
  {
   "cell_type": "code",
   "execution_count": null,
   "id": "ab13bfbf",
   "metadata": {},
   "outputs": [],
   "source": [
    "import os \n",
    "slides = {}\n",
    "pdf_directory = r\"C:\\Users\\nadya\\Downloads\\INNOVATION FOUNDATION\\PHASE 2\\TEPP 2\\Operation-Genius-Alert\\data\"\n",
    "for filename in os.listdir(pdf_directory):\n",
    "        if filename.endswith(\".pdf\"):\n",
    "            filepath = os.path.join(pdf_directory, filename)\n",
    "            # Now, you can process each PDF file using pymupdf4llm\n",
    "            # For example, to extract text as Markdown:\n",
    "            markdown_content = pymupdf4llm.to_markdown(filepath)\n",
    "            print(f\"Processing {filename}:\")\n",
    "            # You can then work with the extracted markdown_content\n",
    "            print(markdown_content[:200]) # Print first 200 characters for demonstration\n",
    "            slides[filename] = markdown_content"
   ]
  },
  {
   "cell_type": "code",
   "execution_count": null,
   "id": "e4271760",
   "metadata": {},
   "outputs": [],
   "source": [
    "cleaned_dict = {key: value.replace(\"\\n\", \"\").replace(\"\\r\", \"\") for key, value in slides.items()}\n",
    "cleaned_dict"
   ]
  },
  {
   "cell_type": "code",
   "execution_count": null,
   "id": "9f410b54",
   "metadata": {},
   "outputs": [],
   "source": [
    "embedder = SentenceTransformer('bert-base-nli-mean-tokens')\n",
    "embeddings = embedder.encode(md_list, normalize_embeddings=True) \n",
    "\n",
    "embeddings.shape\n"
   ]
  },
  {
   "cell_type": "code",
   "execution_count": null,
   "id": "b7aa5720",
   "metadata": {},
   "outputs": [],
   "source": [
    "embeddings[0]"
   ]
  },
  {
   "cell_type": "code",
   "execution_count": null,
   "id": "aaa02298",
   "metadata": {},
   "outputs": [],
   "source": [
    "test_prompt = \"When it comes to visualizing data we can either do \"\n",
    "\n",
    "emb_prompt = embedder.encode([test_prompt], normalize_embeddings=True)\n",
    "emb_prompt"
   ]
  }
 ],
 "metadata": {
  "kernelspec": {
   "display_name": "ds",
   "language": "python",
   "name": "python3"
  },
  "language_info": {
   "codemirror_mode": {
    "name": "ipython",
    "version": 3
   },
   "file_extension": ".py",
   "mimetype": "text/x-python",
   "name": "python",
   "nbconvert_exporter": "python",
   "pygments_lexer": "ipython3",
   "version": "3.12.9"
  }
 },
 "nbformat": 4,
 "nbformat_minor": 5
}
